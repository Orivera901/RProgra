{
 "cells": [
  {
   "cell_type": "code",
   "execution_count": 1,
   "id": "128d037d-f107-4a4e-adf2-37749411ae52",
   "metadata": {},
   "outputs": [
    {
     "name": "stdout",
     "output_type": "stream",
     "text": [
      "Overwriting Guess.cpp\n"
     ]
    }
   ],
   "source": [
    "%%writefile Guess.cpp\n",
    "\n",
    "#include <iostream>\n",
    "using namespace std;\n",
    "int main(){\n",
    "    char ch='K';\n",
    "    char answer = 'k';\n",
    "\n",
    "    std::cout<<\"Estoy pensando una letra entre la A y la Z\"<<endl;\n",
    "    std::cout<<\"¿Puedes adivinarla?\"<<endl;\n",
    "    std::cin >> answer; //lee el char desde el teclado\n",
    "    if(ch == answer)cout << \"**Correcto **\" << endl;\n",
    "    return 0;\n",
    "}"
   ]
  },
  {
   "cell_type": "code",
   "execution_count": 2,
   "id": "701c1814-141c-4219-a4a3-0729b1019327",
   "metadata": {},
   "outputs": [],
   "source": [
    "!g++ Guess.cpp -o guess"
   ]
  },
  {
   "cell_type": "code",
   "execution_count": 3,
   "id": "bcb5fe0d-3d8b-43bf-860d-13a70b6bd09c",
   "metadata": {},
   "outputs": [
    {
     "name": "stdout",
     "output_type": "stream",
     "text": [
      "Overwriting Guess_1.cpp\n"
     ]
    }
   ],
   "source": [
    "%%writefile Guess_1.cpp\n",
    "\n",
    "#include <iostream>\n",
    "using namespace std;\n",
    "int main(){\n",
    "    char ch='K';\n",
    "    char answer = 'k';\n",
    "\n",
    "    std::cout<<\"Estoy pensando una letra entre la A y la Z\"<<endl;\n",
    "    std::cout<<\"¿Puedes adivinarla?\"<<endl;\n",
    "    std::cin >> answer; //lee el char desde el teclado\n",
    "    if(ch == answer)cout << \"**Correcto **\" << endl;\n",
    "    else cout<<\"** ... Sorry, esta equivocado\"<< endl;\n",
    "    return 0;\n",
    "}"
   ]
  },
  {
   "cell_type": "code",
   "execution_count": 4,
   "id": "2178c268-031d-4a76-8a5d-c1e52c9e5204",
   "metadata": {},
   "outputs": [],
   "source": [
    "!g++ Guess_1.cpp -o guess_1"
   ]
  },
  {
   "cell_type": "code",
   "execution_count": 5,
   "id": "d048ca52-7ad9-453a-ade7-cdd135f55a7f",
   "metadata": {},
   "outputs": [
    {
     "name": "stdout",
     "output_type": "stream",
     "text": [
      "Overwriting Guess_2.cpp\n"
     ]
    }
   ],
   "source": [
    "%%writefile Guess_2.cpp\n",
    "\n",
    "#include <iostream>\n",
    "using namespace std;\n",
    "int main(){\n",
    "    char ch='K';\n",
    "    char answer = 'k';\n",
    "\n",
    "    std::cout<<\"Estoy pensando una letra entre la A y la Z\"<<endl;\n",
    "    std::cout<<\"¿Puedes adivinarla?\"<<endl;\n",
    "    std::cin >> answer; //lee el char desde el teclado\n",
    "    if(ch == answer)cout << \"**Correcto **\" << endl;\n",
    "    else {\n",
    "        if(ch < answer)cout<<\"**Te qeudastes por debajo**\"<<endl;\n",
    "        else cout << \"**Te has puesto por arriba**\"<<endl;\n",
    "        }\n",
    "    return 0;\n",
    "}"
   ]
  },
  {
   "cell_type": "code",
   "execution_count": 6,
   "id": "ac838b86-766b-476e-a66d-b674115c4512",
   "metadata": {},
   "outputs": [],
   "source": [
    "!g++ Guess_2.cpp -o guess_2"
   ]
  },
  {
   "cell_type": "code",
   "execution_count": 7,
   "id": "f239e29c-c12f-4d14-827c-2ad73cdbb9b9",
   "metadata": {},
   "outputs": [
    {
     "name": "stdout",
     "output_type": "stream",
     "text": [
      "Overwriting Escaleras.cpp\n"
     ]
    }
   ],
   "source": [
    "%%writefile Escaleras.cpp\n",
    "\n",
    "#include <iostream>\n",
    "using namespace std;\n",
    "int main(){\n",
    "    int x;\n",
    "    for(x=0;x<6;x++){\n",
    "        std::cout<< x << endl;\n",
    "        if(x==1)\n",
    "            std::cout << \"x es uno\" << endl;\n",
    "        else if(x==2)\n",
    "            std::cout << \"x es dos\" << endl;\n",
    "        else if(x==3)\n",
    "            std::cout<< \"x es tres\" << endl;\n",
    "        else if(x==4)\n",
    "            std::cout<< \"x es cuatro\" << endl;\n",
    "        else{\n",
    "            std::cout<< \"x is not between 1 and 4 \" << endl;\n",
    "        }\n",
    "    }\n",
    "    return 0;\n",
    "}"
   ]
  },
  {
   "cell_type": "code",
   "execution_count": 8,
   "id": "0697fb02-9f1d-448a-8e32-719153d43072",
   "metadata": {},
   "outputs": [],
   "source": [
    "!g++ Escaleras.cpp -o escaleras"
   ]
  },
  {
   "cell_type": "code",
   "execution_count": 9,
   "id": "448afda9-6da9-46f8-934e-4c7b817da610",
   "metadata": {},
   "outputs": [
    {
     "name": "stdout",
     "output_type": "stream",
     "text": [
      "Writing loop.cpp\n"
     ]
    }
   ],
   "source": [
    "%%writefile loop.cpp\n",
    "\n",
    "#include <iostream>\n",
    "using namespace std;\n",
    "int main(){\n",
    "    int i,j;\n",
    "    for(i=0, j=10;i<j;i++,j--){\n",
    "        std::cout << \"i and j:\"<<endl;\n",
    "        std::cout << i << endl;\n",
    "        std::cout << j << endl;\n",
    "    }\n",
    "    return 0;\n",
    "}"
   ]
  },
  {
   "cell_type": "code",
   "execution_count": 10,
   "id": "4eea9e0c-5073-4dca-9fab-ff7d742904cf",
   "metadata": {},
   "outputs": [],
   "source": [
    "!g++ loop.cpp -o loop"
   ]
  },
  {
   "cell_type": "code",
   "execution_count": 11,
   "id": "3400c057-3cfd-413b-b69f-b2d5aada81a4",
   "metadata": {},
   "outputs": [
    {
     "name": "stdout",
     "output_type": "stream",
     "text": [
      "Writing switch.cpp\n"
     ]
    }
   ],
   "source": [
    "%%writefile switch.cpp\n",
    "\n",
    "#include <iostream>\n",
    "using namespace std;\n",
    "int main(){\n",
    "    int i;\n",
    "    for(i=0; i<10; i++)\n",
    "        switch(i) {\n",
    "            case 0:\n",
    "                std::cout <<\"i is zero\"<<endl;\n",
    "                break;\n",
    "            case 1;\n",
    "                std:cout <<\"i is one\"<<endl;\n",
    "                break\n",
    "        }\n",
    "    return 0;\n",
    "}"
   ]
  },
  {
   "cell_type": "code",
   "execution_count": null,
   "id": "2f4156e0-55d8-4011-8531-2d8d2b4aa184",
   "metadata": {},
   "outputs": [],
   "source": []
  }
 ],
 "metadata": {
  "kernelspec": {
   "display_name": "Python 3 (ipykernel)",
   "language": "python",
   "name": "python3"
  },
  "language_info": {
   "codemirror_mode": {
    "name": "ipython",
    "version": 3
   },
   "file_extension": ".py",
   "mimetype": "text/x-python",
   "name": "python",
   "nbconvert_exporter": "python",
   "pygments_lexer": "ipython3",
   "version": "3.10.12"
  }
 },
 "nbformat": 4,
 "nbformat_minor": 5
}
