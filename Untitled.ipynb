{
 "cells": [
  {
   "cell_type": "code",
   "execution_count": 17,
   "id": "776797ee-c3d0-4c35-a44c-f547177c0855",
   "metadata": {},
   "outputs": [
    {
     "name": "stdout",
     "output_type": "stream",
     "text": [
      "Overwriting ejercicio_1.cpp\n"
     ]
    }
   ],
   "source": [
    "%%writefile ejercicio_1.cpp\n",
    "\n",
    "#include <iostream>\n",
    "using namespace std;\n",
    "int main(){\n",
    "    std::cout << \"Nombre: Juan Pèrez\" << endl;\n",
    "    std::cout << \"Correo Electrònico: juan.perez@gmail.com;\" << endl;\n",
    "    return 0;\n",
    "}"
   ]
  },
  {
   "cell_type": "code",
   "execution_count": 18,
   "id": "6dfcda30-2da6-4495-9766-6270cf9eeb40",
   "metadata": {},
   "outputs": [],
   "source": [
    "!g++ ejercicio_1.cpp -o ejercicio_1"
   ]
  },
  {
   "cell_type": "code",
   "execution_count": 19,
   "id": "bba641af-954d-487d-a7dc-396bdf39cf21",
   "metadata": {},
   "outputs": [
    {
     "name": "stdout",
     "output_type": "stream",
     "text": [
      "Overwriting ejercicio_2.cpp\n"
     ]
    }
   ],
   "source": [
    "%%writefile ejercicio_2.cpp\n",
    "#include <iostream>\n",
    "#include <string>\n",
    "using namespace std;\n",
    "int main(){\n",
    "    string nombre;\n",
    "    cout << \"Ingrese su nombre: \" << endl;\n",
    "    getline(cin, nombre);\n",
    "    cout << \"Hola \" << nombre << endl;\n",
    "    return 0;\n",
    "}"
   ]
  },
  {
   "cell_type": "code",
   "execution_count": 20,
   "id": "f302068d-ebd4-4c84-bd16-28199555dda0",
   "metadata": {},
   "outputs": [],
   "source": [
    "!g++ ejercicio_2.cpp -o ejercicio_2"
   ]
  },
  {
   "cell_type": "code",
   "execution_count": 25,
   "id": "a190e213-1b06-4c46-8a53-3a5749dc8d23",
   "metadata": {},
   "outputs": [
    {
     "name": "stdout",
     "output_type": "stream",
     "text": [
      "Overwriting ejercicio_3.cpp\n"
     ]
    }
   ],
   "source": [
    "%%writefile ejercicio_3.cpp\n",
    "#include <iostream>\n",
    "#include <string>\n",
    "using namespace std;\n",
    "int main(){\n",
    "    float ancho, largo;\n",
    "    cout << \"Ingrese el ancho de la habitacion en metros: \" << endl;\n",
    "    cin >> ancho;\n",
    "    cout << \"Ingrese el largo de la habitacion en metros; \" << endl;\n",
    "    cin >> largo;\n",
    "    cout << \"El area de la habitacion es de: \" << largo * ancho << \" metros cuadrados.\" << endl;\n",
    "    return 0;\n",
    "}"
   ]
  },
  {
   "cell_type": "code",
   "execution_count": 24,
   "id": "0beb3969-1df4-4829-b570-2fed0c7f5b09",
   "metadata": {},
   "outputs": [],
   "source": [
    "!g++ ejercicio_3.cpp -o ejercicio_3"
   ]
  },
  {
   "cell_type": "code",
   "execution_count": 30,
   "id": "9a27729a-bf78-4a18-aeda-d904f6fda75c",
   "metadata": {},
   "outputs": [
    {
     "name": "stdout",
     "output_type": "stream",
     "text": [
      "Overwriting ejercicio_4.cpp\n"
     ]
    }
   ],
   "source": [
    "%%writefile ejercicio_4.cpp\n",
    "#include <iostream>\n",
    "using namespace std;\n",
    "int main(){\n",
    "    float ancho, largo;\n",
    "    cout << \"Escriba el largo del campo en pies: \" << endl;\n",
    "    cin >> largo;\n",
    "    cout << \"Escriba el ancho del campo en pies: \" << endl;\n",
    "    cin >> ancho;\n",
    "    cout << \"El area del campo es de: \" << (largo*ancho)/43560 << \" acres\" << endl;\n",
    "}"
   ]
  },
  {
   "cell_type": "code",
   "execution_count": 31,
   "id": "99862665-a2a3-4a6c-ae5c-df766ca4d995",
   "metadata": {},
   "outputs": [],
   "source": [
    "!g++ ejercicio_4.cpp -o ejercicio_4"
   ]
  },
  {
   "cell_type": "code",
   "execution_count": null,
   "id": "eacd0338-6e75-49f6-b087-7b3992e4f0cf",
   "metadata": {},
   "outputs": [],
   "source": []
  }
 ],
 "metadata": {
  "kernelspec": {
   "display_name": "Python 3 (ipykernel)",
   "language": "python",
   "name": "python3"
  },
  "language_info": {
   "codemirror_mode": {
    "name": "ipython",
    "version": 3
   },
   "file_extension": ".py",
   "mimetype": "text/x-python",
   "name": "python",
   "nbconvert_exporter": "python",
   "pygments_lexer": "ipython3",
   "version": "3.10.12"
  }
 },
 "nbformat": 4,
 "nbformat_minor": 5
}
