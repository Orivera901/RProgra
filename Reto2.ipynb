{
 "cells": [
  {
   "cell_type": "code",
   "execution_count": 18,
   "id": "5d82d5a9-a4f4-4c32-9799-24f1c70b0e64",
   "metadata": {},
   "outputs": [
    {
     "name": "stdout",
     "output_type": "stream",
     "text": [
      "Overwriting Ejercicio1.cpp\n"
     ]
    }
   ],
   "source": [
    "%%writefile Ejercicio1.cpp\n",
    "#include <iostream>\n",
    "using namespace std;\n",
    "\n",
    "int main(){\n",
    "    int num;\n",
    "    cout<<\"Escriba un número: \";\n",
    "    cin>>num;\n",
    "    if (num % 2 == 0){\n",
    "        cout<<\"El número es par.\\n\";\n",
    "    }\n",
    "    else {\n",
    "        cout<<\"El número es impar.\\n\";\n",
    "    }\n",
    "    return 0;\n",
    "}"
   ]
  },
  {
   "cell_type": "code",
   "execution_count": 19,
   "id": "95980c4a-ad56-4d95-9050-677616b34843",
   "metadata": {},
   "outputs": [],
   "source": [
    "!g++ Ejercicio1.cpp -o ejercicio1"
   ]
  },
  {
   "cell_type": "code",
   "execution_count": 20,
   "id": "c034f184-08a6-4981-918e-7afec9a58c7e",
   "metadata": {},
   "outputs": [
    {
     "name": "stdout",
     "output_type": "stream",
     "text": [
      "Overwriting Ejercicio2.cpp\n"
     ]
    }
   ],
   "source": [
    "%%writefile Ejercicio2.cpp\n",
    "#include <iostream>\n",
    "using namespace std;\n",
    "\n",
    "int main(){\n",
    "    char letra;\n",
    "    cout<<\"Escriba una letra: \";\n",
    "    cin>>letra;\n",
    "    if(letra == 'a' || letra == 'e' || letra == 'i' || letra == 'o' || letra == 'u'){\n",
    "        cout<<\"La letra \"<<letra<<\" es una vocal.\\n\";\n",
    "    } else if(letra == 'y'){\n",
    "        cout<<\"La letra \"<<letra<<\" es a veces una vocal, otras veces, una consonante.\\n\";\n",
    "    } else{\n",
    "        cout<<\"La letra \"<<letra<<\" es una consonante.\\n\";\n",
    "    }\n",
    "    return 0;\n",
    "}"
   ]
  },
  {
   "cell_type": "code",
   "execution_count": 21,
   "id": "e5126834-86f2-479b-a2f7-22d2afa97c02",
   "metadata": {},
   "outputs": [],
   "source": [
    "!g++ Ejercicio2.cpp -o ejercicio2"
   ]
  },
  {
   "cell_type": "code",
   "execution_count": 22,
   "id": "3df587cc-8f85-4335-831b-719f5cd37347",
   "metadata": {},
   "outputs": [
    {
     "name": "stdout",
     "output_type": "stream",
     "text": [
      "Overwriting Ejercicio3.cpp\n"
     ]
    }
   ],
   "source": [
    "%%writefile Ejercicio3.cpp\n",
    "#include <iostream>\n",
    "using namespace std;\n",
    "\n",
    "int main(){\n",
    "    int lados;\n",
    "    cout<<\"Ingrese el número de lados que tiene su figura: \";\n",
    "    cin>>lados;\n",
    "    if(lados<3){\n",
    "      cout<<\"Error: No se aceptan figuras de menos de 3 lados.\\n\";\n",
    "    } else if(lados>10){\n",
    "        cout<<\"Error: No se admiten más de 10 lados.\\n\";\n",
    "    } else{\n",
    "        switch(lados){\n",
    "            case 3:\n",
    "                cout<<\"Es un triangulo.\\n\";\n",
    "                break;\n",
    "            case 4:\n",
    "                cout<<\"Es un cuadrilatero.\\n\";\n",
    "                break;\n",
    "            case 5:\n",
    "                cout<<\"Es un pentagono.\\n\";\n",
    "                break;\n",
    "            case 6:\n",
    "                cout<<\"Es un hexagono.\\n\";\n",
    "                break;\n",
    "            case 7:\n",
    "                cout<<\"Es un heptagono.\\n\";\n",
    "                break;\n",
    "            case 8:\n",
    "                cout<<\"Es un octagono.\\n\";\n",
    "                break;\n",
    "            case 9:\n",
    "                cout<<\"Es un nonagono.\\n\";\n",
    "                break;\n",
    "            case 10:\n",
    "                cout<<\"Es un decagono.\\n\";\n",
    "                break;\n",
    "        }\n",
    "    }\n",
    "}"
   ]
  },
  {
   "cell_type": "code",
   "execution_count": 23,
   "id": "c8c502b6-619c-43ca-a994-750af2241c5c",
   "metadata": {},
   "outputs": [],
   "source": [
    "!g++ Ejercicio3.cpp -o ejercicio3"
   ]
  },
  {
   "cell_type": "code",
   "execution_count": 30,
   "id": "b0ce4493-988d-495b-89e6-d136dd99ad23",
   "metadata": {},
   "outputs": [
    {
     "name": "stdout",
     "output_type": "stream",
     "text": [
      "Overwriting Mes.h\n"
     ]
    }
   ],
   "source": [
    "%%writefile Mes.h\n",
    "#include <string>\n",
    "using namespace std;\n",
    "\n",
    "class Mes {\n",
    "    private:\n",
    "        string nombre;\n",
    "    public:\n",
    "        Mes(string nombreMes);\n",
    "        int obtenerDias();\n",
    "};"
   ]
  },
  {
   "cell_type": "code",
   "execution_count": 31,
   "id": "fdfb18e4-8423-4318-90b5-3804f5c07b8e",
   "metadata": {},
   "outputs": [
    {
     "name": "stdout",
     "output_type": "stream",
     "text": [
      "Overwriting Mes.cpp\n"
     ]
    }
   ],
   "source": [
    "%%writefile Mes.cpp\n",
    "#include \"Mes.h\"\n",
    "#include <iostream>\n",
    "using namespace std;\n",
    "\n",
    "Mes::Mes(string nombreMes) {\n",
    "    nombre = nombreMes;\n",
    "}\n",
    "\n",
    "int Mes::obtenerDias() {\n",
    "    if (nombre == \"Enero\" || nombre == \"Marzo\" || nombre == \"Mayo\" || nombre == \"Julio\" || nombre == \"Agosto\" || nombre == \"Octubre\" || nombre == \"Diciembre\") {\n",
    "        return 31;\n",
    "    }\n",
    "    else if (nombre == \"Abril\" || nombre == \"Junio\" || nombre == \"Septiembre\" || nombre == \"Noviembre\") {\n",
    "        return 30;\n",
    "    }\n",
    "    else if (nombre == \"Febrero\") {\n",
    "        return 28;\n",
    "    }\n",
    "    else {\n",
    "        return -1;\n",
    "    }\n",
    "}"
   ]
  },
  {
   "cell_type": "code",
   "execution_count": 32,
   "id": "1f91d8b6-0f2d-4269-aba1-f92c044146de",
   "metadata": {},
   "outputs": [
    {
     "name": "stdout",
     "output_type": "stream",
     "text": [
      "Overwriting main.cpp\n"
     ]
    }
   ],
   "source": [
    "%%writefile main.cpp\n",
    "#include <iostream>\n",
    "#include \"Mes.h\"\n",
    "using namespace std;\n",
    "\n",
    "int main() {\n",
    "    string nombreMes;\n",
    "    \n",
    "    cout << \"Ingrese el nombre del mes: \";\n",
    "    cin >> nombreMes;\n",
    "\n",
    "    Mes mes(nombreMes);\n",
    "    int dias = mes.obtenerDias();\n",
    "\n",
    "    if (dias == -1) {\n",
    "        cout << \"Mes inválido.\\n\";\n",
    "    } else if (dias == 28) {\n",
    "        cout << \"Febrero tiene 28 o 29 días.\\n\";\n",
    "    } else {\n",
    "        cout << nombreMes << \" tiene \" << dias << \" días.\\n\";\n",
    "    }\n",
    "\n",
    "    return 0;\n",
    "}"
   ]
  },
  {
   "cell_type": "code",
   "execution_count": 29,
   "id": "8b552d20-c87c-4f20-9df7-77d97f21bb42",
   "metadata": {},
   "outputs": [],
   "source": [
    "!g++ main.cpp Mes.cpp -o ejercicio4"
   ]
  },
  {
   "cell_type": "code",
   "execution_count": 17,
   "id": "643c9a0e-8c41-4724-872d-77aeb5667488",
   "metadata": {},
   "outputs": [
    {
     "name": "stdout",
     "output_type": "stream",
     "text": [
      "Overwriting Anyo.h\n"
     ]
    }
   ],
   "source": [
    "%%writefile Anyo.h\n",
    "#include <iostream>\n",
    "using namespace std;\n",
    "\n",
    "class Anyo{\n",
    "    private:\n",
    "        int anyo;\n",
    "    public:\n",
    "        Anyo(int nombreAnyo);\n",
    "        string obtenerZodiaco();\n",
    "};"
   ]
  },
  {
   "cell_type": "code",
   "execution_count": 21,
   "id": "0241e9ac-63ba-4f33-956b-7d9290c96e58",
   "metadata": {},
   "outputs": [
    {
     "name": "stdout",
     "output_type": "stream",
     "text": [
      "Overwriting Anyo.cpp\n"
     ]
    }
   ],
   "source": [
    "%%writefile Anyo.cpp\n",
    "#include <iostream>\n",
    "#include \"Anyo.h\"\n",
    "using namespace std;\n",
    "\n",
    "Anyo::Anyo(int nombreAnyo){\n",
    "    anyo = nombreAnyo;\n",
    "}\n",
    "\n",
    "string Anyo::obtenerZodiaco(){\n",
    "    int indiceAnimal = (anyo - 1900) % 12;\n",
    "    switch(indiceAnimal){\n",
    "        case 0:\n",
    "            return \"Rata\";\n",
    "            break;\n",
    "        case 1:\n",
    "            return \"Buey\";\n",
    "            break;\n",
    "        case 2:\n",
    "            return \"Tigre\";\n",
    "            break;\n",
    "        case 3:\n",
    "            return \"Conejo\";\n",
    "            break;\n",
    "        case 4:\n",
    "            return \"Dragon\";\n",
    "            break;\n",
    "        case 5:\n",
    "            return \"Serpiente\";\n",
    "            break;\n",
    "        case 6:\n",
    "            return \"Caballo\";\n",
    "            break;\n",
    "        case 7:\n",
    "            return \"Cabra\";\n",
    "            break;\n",
    "        case 8:\n",
    "            return \"Mono\";\n",
    "            break;\n",
    "        case 9:\n",
    "            return \"Gallo\";\n",
    "            break;\n",
    "        case 10:\n",
    "            return \"Perro\";\n",
    "            break;\n",
    "        case 11:\n",
    "            return \"Cerdo\";\n",
    "            break;\n",
    "    }\n",
    "    return 0;\n",
    "}"
   ]
  },
  {
   "cell_type": "code",
   "execution_count": 22,
   "id": "914a1ac0-2cdc-4dd1-af63-530788a0e29d",
   "metadata": {},
   "outputs": [
    {
     "name": "stdout",
     "output_type": "stream",
     "text": [
      "Overwriting main.cpp\n"
     ]
    }
   ],
   "source": [
    "%%writefile main.cpp\n",
    "#include <iostream>\n",
    "#include \"Anyo.h\"\n",
    "using namespace std;\n",
    "\n",
    "int main(){\n",
    "    int nombreAnyo;\n",
    "    cout<<\"Escriba su año de nacimiento: \";\n",
    "    cin>>nombreAnyo;\n",
    "\n",
    "    Anyo anyo(nombreAnyo);\n",
    "    string nombreZodiaco = anyo.obtenerZodiaco();\n",
    "\n",
    "    cout<<\"Su animal es: \"<<nombreZodiaco<<endl;\n",
    "    return 0;\n",
    "}"
   ]
  },
  {
   "cell_type": "code",
   "execution_count": 23,
   "id": "8709f4ed-0aee-4d1e-a56a-fb838e970983",
   "metadata": {},
   "outputs": [],
   "source": [
    "!g++ main.cpp Anyo.cpp -o ejercicio5"
   ]
  },
  {
   "cell_type": "code",
   "execution_count": 43,
   "id": "b025698d-1f93-44c5-962a-307b076799bf",
   "metadata": {},
   "outputs": [
    {
     "name": "stdout",
     "output_type": "stream",
     "text": [
      "Overwriting Nota.h\n"
     ]
    }
   ],
   "source": [
    "%%writefile Nota.h\n",
    "#include <iostream>\n",
    "using namespace std;\n",
    "\n",
    "class Nota{\n",
    "    private:\n",
    "        char letra;\n",
    "    public:\n",
    "        Nota(char nLetra);\n",
    "        float obtenerFrecuencia();\n",
    "};"
   ]
  },
  {
   "cell_type": "code",
   "execution_count": 47,
   "id": "ce6132b9-07d4-4040-b5db-48408225a30d",
   "metadata": {},
   "outputs": [
    {
     "name": "stdout",
     "output_type": "stream",
     "text": [
      "Overwriting Nota.cpp\n"
     ]
    }
   ],
   "source": [
    "%%writefile Nota.cpp\n",
    "#include <iostream>\n",
    "#include \"Nota.h\"\n",
    "using namespace std;\n",
    "\n",
    "Nota::Nota(char nLetra){\n",
    "    letra = nLetra;\n",
    "}\n",
    "\n",
    "float Nota::obtenerFrecuencia(){\n",
    "    switch(letra){\n",
    "        case 'C':\n",
    "            return 261.63;\n",
    "            break;\n",
    "        case 'D':\n",
    "            return 293.66;\n",
    "            break;\n",
    "        case 'E':\n",
    "            return 329.63;\n",
    "            break;\n",
    "        case 'F':\n",
    "            return 349.23;\n",
    "            break;\n",
    "        case 'G':\n",
    "            return 392.00;\n",
    "            break;\n",
    "        case 'A':\n",
    "            return 440.00;\n",
    "            break;\n",
    "        case 'B':\n",
    "            return 493.88;\n",
    "            break;\n",
    "    }\n",
    "    return 0;\n",
    "}"
   ]
  },
  {
   "cell_type": "code",
   "execution_count": 54,
   "id": "1f405a2e-b12f-4608-94b5-ce49a19d1c9b",
   "metadata": {},
   "outputs": [
    {
     "name": "stdout",
     "output_type": "stream",
     "text": [
      "Overwriting main.cpp\n"
     ]
    }
   ],
   "source": [
    "%%writefile main.cpp\n",
    "#include <iostream>\n",
    "#include <math.h>\n",
    "#include \"Nota.h\"\n",
    "using namespace std;\n",
    "\n",
    "int main(){\n",
    "    char n;\n",
    "    int numero;\n",
    "    cout<<\"Ingrese una Nota: \";\n",
    "    cin>>n;\n",
    "    cout<<\"Ingrese la octava: \";\n",
    "    cin>>numero;\n",
    "\n",
    "    Nota nota(n);\n",
    "    float f = nota.obtenerFrecuencia();\n",
    "    float frecuencia = f/pow(2, (4-numero));\n",
    "\n",
    "    cout<<\"La frecuencia de \"<<n<<numero<<\" es: \"<<frecuencia<<endl;\n",
    "    return 0;\n",
    "}"
   ]
  },
  {
   "cell_type": "code",
   "execution_count": 55,
   "id": "d6c65aec-8177-48ce-9006-3e161909d945",
   "metadata": {},
   "outputs": [],
   "source": [
    "!g++ main.cpp Nota.cpp -o ejercicio6"
   ]
  },
  {
   "cell_type": "code",
   "execution_count": null,
   "id": "1310dc1d-f489-4931-9e73-32e65bf09c20",
   "metadata": {},
   "outputs": [],
   "source": []
  }
 ],
 "metadata": {
  "kernelspec": {
   "display_name": "Python 3 (ipykernel)",
   "language": "python",
   "name": "python3"
  },
  "language_info": {
   "codemirror_mode": {
    "name": "ipython",
    "version": 3
   },
   "file_extension": ".py",
   "mimetype": "text/x-python",
   "name": "python",
   "nbconvert_exporter": "python",
   "pygments_lexer": "ipython3",
   "version": "3.13.2"
  }
 },
 "nbformat": 4,
 "nbformat_minor": 5
}
