{
 "cells": [
  {
   "cell_type": "code",
   "execution_count": 66,
   "id": "2e5a9f21-9152-41b0-a332-96d40d79a7c2",
   "metadata": {},
   "outputs": [
    {
     "name": "stdout",
     "output_type": "stream",
     "text": [
      "Overwriting Loop.h\n"
     ]
    }
   ],
   "source": [
    "%%writefile Loop.h\n",
    "#include <iostream>\n",
    "using namespace std;\n",
    "\n",
    "class Loop{\n",
    "    private:\n",
    "        int i;\n",
    "    public:\n",
    "        Loop(int _i);\n",
    "        void imprimirLoop();\n",
    "};"
   ]
  },
  {
   "cell_type": "code",
   "execution_count": 67,
   "id": "e9b37246-6a50-4aec-8713-7be717126b63",
   "metadata": {},
   "outputs": [
    {
     "name": "stdout",
     "output_type": "stream",
     "text": [
      "Overwriting Loop.cpp\n"
     ]
    }
   ],
   "source": [
    "%%writefile Loop.cpp\n",
    "#include <iostream>\n",
    "#include \"Loop.h\"\n",
    "using namespace std;\n",
    "\n",
    "Loop::Loop(int _i){\n",
    "    i = _i;\n",
    "}\n",
    "\n",
    "void Loop::imprimirLoop(){\n",
    "    for (i = 1; i <= 10; i++){\n",
    "        cout<<i<<endl;\n",
    "    }\n",
    "}"
   ]
  },
  {
   "cell_type": "code",
   "execution_count": 68,
   "id": "3959b9a4-263f-48db-977e-24bcaf05d216",
   "metadata": {},
   "outputs": [
    {
     "name": "stdout",
     "output_type": "stream",
     "text": [
      "Overwriting main.cpp\n"
     ]
    }
   ],
   "source": [
    "%%writefile main.cpp\n",
    "#include <iostream>\n",
    "#include \"Loop.h\"\n",
    "using namespace std;\n",
    "\n",
    "int main(){\n",
    "    Loop loop(1);\n",
    "    loop.imprimirLoop();\n",
    "    cout<<\"Realizado\"<<endl;\n",
    "    return 0;\n",
    "}"
   ]
  },
  {
   "cell_type": "code",
   "execution_count": 69,
   "id": "180b7bfb-635a-4bf9-a1f4-5fe99915cbae",
   "metadata": {},
   "outputs": [],
   "source": [
    "!g++ main.cpp Loop.cpp -o ejercicio1"
   ]
  },
  {
   "cell_type": "code",
   "execution_count": 70,
   "id": "9caaf984-c92a-442e-8621-33ca46ec82fb",
   "metadata": {},
   "outputs": [
    {
     "name": "stdout",
     "output_type": "stream",
     "text": [
      "Overwriting Loop2.h\n"
     ]
    }
   ],
   "source": [
    "%%writefile Loop2.h\n",
    "#include <iostream>\n",
    "using namespace std;\n",
    "\n",
    "class Loop2{\n",
    "    private:\n",
    "        int num;\n",
    "    public:\n",
    "        Loop2(int _num);\n",
    "        void imprimirLoop();\n",
    "};"
   ]
  },
  {
   "cell_type": "code",
   "execution_count": 71,
   "id": "859bf962-1461-4fba-92b2-c0083b0341be",
   "metadata": {},
   "outputs": [
    {
     "name": "stdout",
     "output_type": "stream",
     "text": [
      "Overwriting Loop2.cpp\n"
     ]
    }
   ],
   "source": [
    "%%writefile Loop2.cpp\n",
    "#include <iostream>\n",
    "#include \"Loop2.h\"\n",
    "using namespace std;\n",
    "\n",
    "Loop2::Loop2(int _num){\n",
    "    num = _num;\n",
    "}\n",
    "\n",
    "void Loop2::imprimirLoop(){\n",
    "    for(int x = 1; x <= num; x += 2){\n",
    "        cout<<x<<endl;\n",
    "    }\n",
    "}"
   ]
  },
  {
   "cell_type": "code",
   "execution_count": 72,
   "id": "b70f143f-8d5f-47e1-bbbe-84b38ee75f49",
   "metadata": {},
   "outputs": [
    {
     "name": "stdout",
     "output_type": "stream",
     "text": [
      "Overwriting main.cpp\n"
     ]
    }
   ],
   "source": [
    "%%writefile main.cpp\n",
    "#include <iostream>\n",
    "#include \"Loop2.h\"\n",
    "using namespace std;\n",
    "\n",
    "int main(){\n",
    "    int x;\n",
    "    cout<<\"Cree un programa en C++ que imprima valores en un rango con un incremento de 2.\"<<endl;\n",
    "    cout<<\"Ingrese un numero limite para el ciclo: \";\n",
    "    cin>>x;\n",
    "    Loop2 loop(x);\n",
    "    loop.imprimirLoop();\n",
    "    cout<<\"Realizado\"<<endl;\n",
    "    return 0;\n",
    "}"
   ]
  },
  {
   "cell_type": "code",
   "execution_count": 73,
   "id": "7a339219-621e-4357-b4f6-129c63a9ccd4",
   "metadata": {},
   "outputs": [],
   "source": [
    "!g++ Loop2.cpp main.cpp -o ejercicio2"
   ]
  },
  {
   "cell_type": "code",
   "execution_count": 74,
   "id": "eaaa39d4-c64b-4ee9-8203-927c25e0b46a",
   "metadata": {},
   "outputs": [
    {
     "name": "stdout",
     "output_type": "stream",
     "text": [
      "Overwriting Loop3.h\n"
     ]
    }
   ],
   "source": [
    "%%writefile Loop3.h\n",
    "#include <iostream>\n",
    "using namespace std;\n",
    "\n",
    "class Loop3{\n",
    "    private:\n",
    "        int _;\n",
    "    public:\n",
    "        Loop3(int __);\n",
    "        void imprimirLoop();\n",
    "};"
   ]
  },
  {
   "cell_type": "code",
   "execution_count": 75,
   "id": "1ba898cb-9720-433a-9064-5649e0829450",
   "metadata": {},
   "outputs": [
    {
     "name": "stdout",
     "output_type": "stream",
     "text": [
      "Overwriting Loop3.cpp\n"
     ]
    }
   ],
   "source": [
    "%%writefile Loop3.cpp\n",
    "#include <iostream>\n",
    "#include \"Loop3.h\"\n",
    "using namespace std;\n",
    "\n",
    "Loop3::Loop3(int __){\n",
    "    _ = __;\n",
    "}\n",
    "\n",
    "void Loop3::imprimirLoop(){\n",
    "    for (_ = 1; _ <= 10; _++){\n",
    "        cout<<_<<endl;\n",
    "    }\n",
    "}"
   ]
  },
  {
   "cell_type": "code",
   "execution_count": 76,
   "id": "c36dc05c-12cf-4738-9229-7ce7fac6bc7c",
   "metadata": {},
   "outputs": [
    {
     "name": "stdout",
     "output_type": "stream",
     "text": [
      "Overwriting main.cpp\n"
     ]
    }
   ],
   "source": [
    "%%writefile main.cpp\n",
    "#include <iostream>\n",
    "#include \"Loop3.h\"\n",
    "using namespace std;\n",
    "\n",
    "int main(){\n",
    "    Loop3 loop(1);\n",
    "    loop.imprimirLoop();\n",
    "    cout<<\"Realizado\"<<endl;\n",
    "    return 0;\n",
    "}"
   ]
  },
  {
   "cell_type": "code",
   "execution_count": 77,
   "id": "c49fbb20-7106-405f-809a-5d0915d836c0",
   "metadata": {},
   "outputs": [],
   "source": [
    "!g++ main.cpp Loop3.cpp -o ejercicio3"
   ]
  },
  {
   "cell_type": "code",
   "execution_count": null,
   "id": "bd5fc965-025e-4225-aa69-4bbf205492b1",
   "metadata": {},
   "outputs": [],
   "source": [
    "%%writefile Loop4.h\n",
    "#include <iostream>\n",
    "using namespace std;\n",
    "\n",
    "class Loop4{\n",
    "    private:\n",
    "        int num;\n",
    "    public:\n",
    "        Loop4(int _num);\n",
    "        compararLoop();\n",
    "};"
   ]
  },
  {
   "cell_type": "code",
   "execution_count": null,
   "id": "8f20a407-2c0b-4d18-9737-ca12663e198c",
   "metadata": {},
   "outputs": [],
   "source": [
    "%%writefile Loop4.cpp\n",
    "#include <iostream>\n",
    "#include \"Loop4.h\"\n",
    "using namespace std;\n",
    "\n",
    "Loop4::Loop4()"
   ]
  }
 ],
 "metadata": {
  "kernelspec": {
   "display_name": "Python 3 (ipykernel)",
   "language": "python",
   "name": "python3"
  },
  "language_info": {
   "codemirror_mode": {
    "name": "ipython",
    "version": 3
   },
   "file_extension": ".py",
   "mimetype": "text/x-python",
   "name": "python",
   "nbconvert_exporter": "python",
   "pygments_lexer": "ipython3",
   "version": "3.13.2"
  }
 },
 "nbformat": 4,
 "nbformat_minor": 5
}
