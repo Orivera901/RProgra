{
 "cells": [
  {
   "cell_type": "code",
   "execution_count": null,
   "id": "bc60e943-99ba-4bd9-b8a7-6ef052cd1aee",
   "metadata": {},
   "outputs": [],
   "source": [
    "##writefile PracticaClase5.cpp\n",
    "#include <iostream>\n",
    "\n",
    "using namespace std;\n",
    "\n",
    "int Main(){\n",
    "    return 0;\n",
    "}"
   ]
  },
  {
   "cell_type": "code",
   "execution_count": null,
   "id": "653434c9-951a-4a03-9cc8-6fc83b3ed894",
   "metadata": {},
   "outputs": [],
   "source": [
    "!g++ PracticaClase5.cpp -o PracticaClase5 && ./PracticaClase5"
   ]
  }
 ],
 "metadata": {
  "kernelspec": {
   "display_name": "Python 3 (ipykernel)",
   "language": "python",
   "name": "python3"
  },
  "language_info": {
   "codemirror_mode": {
    "name": "ipython",
    "version": 3
   },
   "file_extension": ".py",
   "mimetype": "text/x-python",
   "name": "python",
   "nbconvert_exporter": "python",
   "pygments_lexer": "ipython3",
   "version": "3.10.12"
  }
 },
 "nbformat": 4,
 "nbformat_minor": 5
}
