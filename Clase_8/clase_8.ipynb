{
 "cells": [
  {
   "cell_type": "code",
   "execution_count": 1,
   "id": "27444c78-4488-4f56-bb09-0e277f4fdbe3",
   "metadata": {},
   "outputs": [
    {
     "name": "stdout",
     "output_type": "stream",
     "text": [
      "Writing example_3.cpp\n"
     ]
    }
   ],
   "source": [
    "%%writefile example_3.cpp\n",
    "\n",
    "#include <iostream>\n",
    "using namespace std;\n",
    "int main(){\n",
    "    int i;\n",
    "    for(i=0; i<10; i++)\n",
    "        switch(i){\n",
    "            case 0:\n",
    "                cout<<\"i is zero\"<<endl;\n",
    "                break;\n",
    "            case 1:\n",
    "                cout<<\"i is one\"<<endl;\n",
    "                break;\n",
    "            case 2:\n",
    "                cout<<\"i is two\"<<endl;\n",
    "                break;\n",
    "            case 3:\n",
    "                cout<<\"i is three\"<<endl;\n",
    "                break;\n",
    "            case 4:\n",
    "                cout<<\"i is four\"<<endl;\n",
    "                break;\n",
    "            default:\n",
    "                cout<<\"i is five or more\"<<endl;\n",
    "        }\n",
    "    return 0;\n",
    "}"
   ]
  },
  {
   "cell_type": "code",
   "execution_count": 2,
   "id": "a8685c56-abc5-42a6-9186-969c616f4814",
   "metadata": {},
   "outputs": [],
   "source": [
    "!g++ example_3.cpp -o example_3"
   ]
  },
  {
   "cell_type": "code",
   "execution_count": 5,
   "id": "f10c116d-a46c-4028-a3c3-c82345679714",
   "metadata": {},
   "outputs": [
    {
     "name": "stdout",
     "output_type": "stream",
     "text": [
      "Overwriting example_4.cpp\n"
     ]
    }
   ],
   "source": [
    "%%writefile example_4.cpp\n",
    "\n",
    "#include <iostream>\n",
    "using namespace std;\n",
    "int main(){\n",
    "    int i;\n",
    "    for(i=0; i<5; i++){\n",
    "        switch(i){\n",
    "            case 0:\n",
    "                cout<<\"i is less than one\"<<endl;\n",
    "            case 1:\n",
    "                cout<<\"i is less than two\"<<endl;\n",
    "            case 2:\n",
    "                cout<<\"i is less than three\"<<endl;\n",
    "            case 3:\n",
    "                cout<<\"i is less than four\"<<endl;\n",
    "            case 4:\n",
    "                cout<<\"i is less than five\"<<endl;\n",
    "            }\n",
    "        cout<<\"end\"<<endl;\n",
    "        }\n",
    "    return 0;\n",
    "}"
   ]
  },
  {
   "cell_type": "code",
   "execution_count": 6,
   "id": "76e3c57c-22a7-4f2a-bb6a-eb13028d7d61",
   "metadata": {},
   "outputs": [],
   "source": [
    "!g++ example_4.cpp -o example_4"
   ]
  },
  {
   "cell_type": "code",
   "execution_count": 11,
   "id": "0bd89935-111d-40f0-a679-4a000a2076d6",
   "metadata": {},
   "outputs": [
    {
     "name": "stdout",
     "output_type": "stream",
     "text": [
      "Overwriting help.cpp\n"
     ]
    }
   ],
   "source": [
    "%%writefile help.cpp\n",
    "\n",
    "#include <iostream>\n",
    "using namespace std;\n",
    "\n",
    "int main(){\n",
    "    char choice;\n",
    "    cout<<\"Help on:\"<<endl;\n",
    "    cout<<\"1. if\"<<endl;\n",
    "    cout<<\"2. switch\"<<endl;\n",
    "    cout<<\"Choose one: \"<< endl;\n",
    "    cin>>choice;\n",
    "    switch(choice){\n",
    "        case '1':\n",
    "            cout<<\"The if:\\n\"<<endl;\n",
    "            cout<<\"if(condition) statement;\"<<endl;\n",
    "            cout<<\"else statement;\"<<endl;\n",
    "            break;\n",
    "        case '2':\n",
    "            cout<<\"The switch:\\n\"<<endl;\n",
    "            cout<<\"switch(expression) {\"<<endl;\n",
    "            cout<<\"case constant:\"<<endl;\n",
    "            cout<<\"statement sequence\"<<endl;\n",
    "            cout<<\"break;\"<<endl;\n",
    "            cout<<\"/\"<<\"/ ...\"<< endl;\n",
    "            break;\n",
    "        default:\n",
    "            cout<<\"Selection not found\"<<endl;\n",
    "    }\n",
    "    return 0;\n",
    "}"
   ]
  },
  {
   "cell_type": "code",
   "execution_count": 12,
   "id": "e017f1a2-d4cb-4c4b-8769-82ffab51c312",
   "metadata": {},
   "outputs": [],
   "source": [
    "!g++ help.cpp -o help"
   ]
  },
  {
   "cell_type": "code",
   "execution_count": null,
   "id": "9d9e2d07-c819-4b79-a882-255470956c9e",
   "metadata": {},
   "outputs": [],
   "source": []
  }
 ],
 "metadata": {
  "kernelspec": {
   "display_name": "Python 3 (ipykernel)",
   "language": "python",
   "name": "python3"
  },
  "language_info": {
   "codemirror_mode": {
    "name": "ipython",
    "version": 3
   },
   "file_extension": ".py",
   "mimetype": "text/x-python",
   "name": "python",
   "nbconvert_exporter": "python",
   "pygments_lexer": "ipython3",
   "version": "3.10.12"
  }
 },
 "nbformat": 4,
 "nbformat_minor": 5
}
