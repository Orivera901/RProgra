{
 "cells": [
  {
   "cell_type": "code",
   "execution_count": 7,
   "id": "b3133ced-9384-4e63-b082-601a7dcc20b0",
   "metadata": {},
   "outputs": [
    {
     "name": "stdout",
     "output_type": "stream",
     "text": [
      "Overwriting practica.cpp\n"
     ]
    }
   ],
   "source": [
    "%%writefile practica.cpp\n",
    "#include <iostream>\n",
    "#include <iomanip> //Libreria para redondear punto flotante\n",
    "using namespace std;\n",
    "int main(){\n",
    "    /* */\n",
    "    int ContP, ContG;\n",
    "    cout<<\"Coloque la cantidad de contenedores de menos o igual a un litro: \"<<endl;\n",
    "    cin>>ContP;\n",
    "    cout<<\"Coloque la cantidad de contenedores de mas de un litro: \"<<endl;\n",
    "    cin>>ContG;\n",
    "    float Reembolso = (ContP * 0.1) + (ContG * 0.25);\n",
    "    cout<<\"El reembolso es de: \" << char(36) << fixed << setprecision(2) << Reembolso << endl; //char(36) es para insertar el signo de dolar con ASCII\n",
    "    return 0;\n",
    "}"
   ]
  },
  {
   "cell_type": "code",
   "execution_count": 8,
   "id": "eb98126d-5830-48d6-975d-4bc79d9eb60f",
   "metadata": {},
   "outputs": [],
   "source": [
    "!g++ practica.cpp -o practica"
   ]
  },
  {
   "cell_type": "code",
   "execution_count": null,
   "id": "5ed1b0a2-dbe2-47f9-a69d-b28b45f546cc",
   "metadata": {},
   "outputs": [],
   "source": []
  }
 ],
 "metadata": {
  "kernelspec": {
   "display_name": "Python 3 (ipykernel)",
   "language": "python",
   "name": "python3"
  },
  "language_info": {
   "codemirror_mode": {
    "name": "ipython",
    "version": 3
   },
   "file_extension": ".py",
   "mimetype": "text/x-python",
   "name": "python",
   "nbconvert_exporter": "python",
   "pygments_lexer": "ipython3",
   "version": "3.10.12"
  }
 },
 "nbformat": 4,
 "nbformat_minor": 5
}
