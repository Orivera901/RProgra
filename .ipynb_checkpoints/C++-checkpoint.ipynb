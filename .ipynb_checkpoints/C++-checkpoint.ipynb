{
 "cells": [
  {
   "cell_type": "code",
   "execution_count": 11,
   "id": "5fb931e8-8ff1-43f3-8ca4-bde4587020ca",
   "metadata": {},
   "outputs": [
    {
     "name": "stdout",
     "output_type": "stream",
     "text": [
      "Overwriting myfirstC++Program.cpp\n"
     ]
    }
   ],
   "source": [
    "%%writefile myfirstC++Program.cpp\n",
    "#include <iostream>\n",
    "using namespace std;\n",
    "\n",
    "int main(){\n",
    "    cout << \"Hello C++ in Jupyter!\" << endl;\n",
    "    return 0;\n",
    "}"
   ]
  },
  {
   "cell_type": "code",
   "execution_count": 12,
   "id": "1ea88618-ace3-4687-b95f-fdc6b6dcc812",
   "metadata": {},
   "outputs": [
    {
     "name": "stdout",
     "output_type": "stream",
     "text": [
      "Hello C++ in Jupyter!\n"
     ]
    }
   ],
   "source": [
    "!g++ myfirstC++Program.cpp -o myfirstC++Program && ./myfirstC++Program"
   ]
  },
  {
   "cell_type": "code",
   "execution_count": null,
   "id": "574a9c48-81a6-49ae-aaab-dfe34bb0e5f5",
   "metadata": {},
   "outputs": [],
   "source": []
  }
 ],
 "metadata": {
  "kernelspec": {
   "display_name": "Python 3 (ipykernel)",
   "language": "python",
   "name": "python3"
  },
  "language_info": {
   "codemirror_mode": {
    "name": "ipython",
    "version": 3
   },
   "file_extension": ".py",
   "mimetype": "text/x-python",
   "name": "python",
   "nbconvert_exporter": "python",
   "pygments_lexer": "ipython3",
   "version": "3.10.12"
  }
 },
 "nbformat": 4,
 "nbformat_minor": 5
}
